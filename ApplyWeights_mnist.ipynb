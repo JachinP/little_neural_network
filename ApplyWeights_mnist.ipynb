{
 "cells": [
  {
   "cell_type": "code",
   "execution_count": 28,
   "metadata": {},
   "outputs": [],
   "source": [
    "import scipy.special\n",
    "import scipy.misc\n",
    "import matplotlib.pyplot as plt\n",
    "import numpy as np\n",
    "import datetime\n",
    "from sklearn.externals import joblib\n",
    "class neuralNetwork:\n",
    "    # 初始化神经网络\n",
    "    def __init__(self, learningrate):\n",
    "\n",
    "        # 初始化输入层-隐藏层权重、隐藏层-输出层权重\n",
    "        # 取出模型参数\n",
    "        self.wih = joblib.load(\"H:/Jupyter Notebook/mnist_dataset/Model_weight/mnist_model_wih.pkl\")\n",
    "        self.who = joblib.load(\"H:/Jupyter Notebook/mnist_dataset/Model_weight/mnist_model_who.pkl\")\n",
    "        \n",
    "        # sigmod函数计算\n",
    "        self.activation_function = lambda x: scipy.special.expit(x)  # 使用lambda关键词创建匿名函数，返回scipy.special.expit(x) 其中expit()函数代表\n",
    "    \n",
    "    # 查询神经网络\n",
    "    def query(self, inputs_list):\n",
    "        # convert inputs list into 2d array\n",
    "        inputs = np.array(inputs_list, ndmin=2).T\n",
    "\n",
    "        # 计算到隐藏层的输入信号\n",
    "        hidden_inputs = np.dot(self.wih, inputs)\n",
    "        # 计算隐藏层的输出值\n",
    "        hidden_outputs = self.activation_function(hidden_inputs)\n",
    "\n",
    "        # 计算到输出层的输入讯号\n",
    "        final_inputs = np.dot(self.who, hidden_outputs)\n",
    "        # 计算输出层的输出值\n",
    "        final_outputs = self.activation_function(final_inputs)\n",
    "        return final_outputs\n",
    "    def getWih(self):\n",
    "        return self.wih\n",
    "    def getWho(self):\n",
    "        return self.who"
   ]
  },
  {
   "cell_type": "code",
   "execution_count": 29,
   "metadata": {},
   "outputs": [],
   "source": [
    "#加载测试数据\n",
    "test_data_file = open(\"mnist_dataset/mnist_test.csv\", 'r')\n",
    "test_data_list = test_data_file.readlines()\n",
    "test_data_file.close()\n",
    "\n",
    "#初始化神经网络对象\n",
    "n = neuralNetwork(0) \n",
    "\n",
    "#积分卡 用于紧跟着的第二段准确度测试程序\n",
    "scorecard = []"
   ]
  },
  {
   "cell_type": "code",
   "execution_count": 30,
   "metadata": {},
   "outputs": [
    {
     "name": "stdout",
     "output_type": "stream",
     "text": [
      "准确率为： 97.18 %\n"
     ]
    }
   ],
   "source": [
    "#测试网络\n",
    "\n",
    "for record  in test_data_list:\n",
    "    #预处理测试数据\n",
    "    all_values = record.split(',')\n",
    "    #将正确值（标签）取出来\n",
    "    correct_label = int(all_values[0]) \n",
    "    \n",
    "    #查询神经网络\n",
    "    inputs = (np.asfarray(all_values[1:])/255.0 * 0.99) + 0.01#定义查询输入\n",
    "    outputs = n.query(inputs)\n",
    "    prodict_label = np.argmax(outputs)#将十个输出节点中 值最大的索引（索引刚好是对应的数字）\n",
    "    \n",
    "    if(prodict_label == correct_label):\n",
    "        scorecard.append(1)   #如果标签值和预测值一致 加一分\n",
    "    else:\n",
    "        scorecard.append(0)   #如果标签值和预测值一致 不计分\n",
    "        pass\n",
    "    pass\n",
    "#转化为准确比\n",
    "scorecard_array = np.asarray(scorecard)\n",
    "print(\"准确率为：\",scorecard_array.sum() / scorecard_array.size *100,\"%\")"
   ]
  }
 ],
 "metadata": {
  "kernelspec": {
   "display_name": "Python 3",
   "language": "python",
   "name": "python3"
  },
  "language_info": {
   "codemirror_mode": {
    "name": "ipython",
    "version": 3
   },
   "file_extension": ".py",
   "mimetype": "text/x-python",
   "name": "python",
   "nbconvert_exporter": "python",
   "pygments_lexer": "ipython3",
   "version": "3.7.3"
  }
 },
 "nbformat": 4,
 "nbformat_minor": 2
}
