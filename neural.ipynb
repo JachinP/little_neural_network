{
 "cells": [
  {
   "cell_type": "code",
   "execution_count": 13,
   "metadata": {},
   "outputs": [],
   "source": [
    "import scipy.special\n",
    "import scipy.misc\n",
    "import matplotlib.pyplot as plt\n",
    "import numpy as np\n",
    "import datetime\n",
    "from sklearn.externals import joblib\n",
    "class neuralNetwork:\n",
    "    # 初始化神经网络\n",
    "    def __init__(self, inputnodes, hiddennodes, outputnodes, learningrate):\n",
    "        # 初始化输入层、隐藏层、输出层的节点数\n",
    "        self.inodes = inputnodes\n",
    "        self.hnodes = hiddennodes\n",
    "        self.onodes = outputnodes\n",
    "\n",
    "        # 初始化输入层-隐藏层权重、隐藏层-输出层权重\n",
    "        # 下图函数生成高斯分布的概率密度随机矩阵，数学经验法则为：采用节点传入链接数量的平方根的倒数，pow()函数用于幂计算，最后一个参数为希望输出的随机数形状\n",
    "        self.wih = np.random.normal(0.0, pow(self.hnodes, -0.5), (self.hnodes, self.inodes))\n",
    "        self.who = np.random.normal(0.0, pow(self.onodes, -0.5), (self.onodes, self.hnodes))\n",
    "\n",
    "        # 设置学习率\n",
    "        self.lr = learningrate\n",
    "\n",
    "        # sigmod函数计算\n",
    "        self.activation_function = lambda x: scipy.special.expit(x)  # 使用lambda关键词创建匿名函数，返回scipy.special.expit(x) 其中expit()函数代表\n",
    "\n",
    "    # 训练神经网络\n",
    "    def train(self,inputs_list,targets_list):\n",
    "        #将输入值以及目标值换为二维矩阵\n",
    "        inputs = np.array(inputs_list,ndmin=2).T\n",
    "        targets = np.array(targets_list,ndmin=2).T\n",
    "\n",
    "        #计算到隐藏层的信号输入值\n",
    "        hidden_inputs = np.dot(self.wih,inputs)\n",
    "        # 计算到隐藏层的信号输出值\n",
    "        hidden_outputs = self.activation_function(hidden_inputs)\n",
    "        # 计算到末尾输出层的信号输入值\n",
    "        final_inputs = np.dot(self.who,hidden_outputs)\n",
    "        # 计算末尾输出层的信号输出值\n",
    "        final_outputs = self.activation_function(final_inputs)\n",
    "\n",
    "        output_errors = targets - final_outputs #计算输出层的误差\n",
    "        hidden_errors = np.dot(self.who.T,output_errors) #计算隐藏层的误差\n",
    "\n",
    "        #更新隐藏层和输出层之间的链接权重\n",
    "        self.who += self.lr * np.dot((output_errors*final_outputs*(1 - final_outputs)),np.transpose(hidden_outputs))\n",
    "        #更新输入层和隐藏层之间的链接权重\n",
    "        self.wih += self.lr * np.dot((hidden_errors*hidden_outputs*(1 - hidden_outputs)),np.transpose(inputs))\n",
    "    # 查询神经网络\n",
    "    def query(self, inputs_list):\n",
    "        # convert inputs list into 2d array\n",
    "        inputs = np.array(inputs_list, ndmin=2).T\n",
    "\n",
    "        # 计算到隐藏层的输入信号\n",
    "        hidden_inputs = np.dot(self.wih, inputs)\n",
    "        # 计算隐藏层的输出值\n",
    "        hidden_outputs = self.activation_function(hidden_inputs)\n",
    "\n",
    "        # 计算到输出层的输入讯号\n",
    "        final_inputs = np.dot(self.who, hidden_outputs)\n",
    "        # 计算输出层的输出值\n",
    "        final_outputs = self.activation_function(final_inputs)\n",
    "        return final_outputs\n",
    "    def getWih(self):\n",
    "        return self.wih\n",
    "    def getWho(self):\n",
    "        return self.who"
   ]
  },
  {
   "cell_type": "code",
   "execution_count": 14,
   "metadata": {},
   "outputs": [],
   "source": [
    "#初始化神经网络对象\n",
    "n = neuralNetwork(784,200,10,0.1) #4个参数分别对应输入节点 隐藏层节点数目 输出层节点数目 学习率\n",
    "\n",
    "#积分卡 用于紧跟着的第二段准确度测试程序\n",
    "scorecard = []"
   ]
  },
  {
   "cell_type": "code",
   "execution_count": 15,
   "metadata": {},
   "outputs": [],
   "source": [
    "#加载训练数据\n",
    "training_data_file = open(\"mnist_dataset/mnist_train.csv\",'r')\n",
    "training_data_list = training_data_file.readlines()\n",
    "training_data_file.close()"
   ]
  },
  {
   "cell_type": "code",
   "execution_count": 16,
   "metadata": {},
   "outputs": [
    {
     "name": "stdout",
     "output_type": "stream",
     "text": [
      "Training is begining! Time: 2019-07-29 17:38:45.538882\n",
      "0.0 %\n",
      "20.0 %\n",
      "40.0 %\n",
      "60.0 %\n",
      "80.0 %\n",
      "Training is finnished! Time: 2019-07-29 18:08:31.752378\n"
     ]
    }
   ],
   "source": [
    "#预处理训练数据\n",
    "print(\"Training is begining! Time:\",datetime.datetime.now())\n",
    "for i in range(5):\n",
    "    for record in training_data_list:\n",
    "        all_values = record.split(',') #将原始数据以‘，’为标志切割开    \n",
    "        inputs = (np.asfarray(all_values[1:]) / 255.0 * 0.99) + 0.01  #将原始数据进行缩放至 0.01 ~ 1.0 范围内（由于0值会使权重更新失败）\n",
    "        #初始化目标输出（由于sigmod函数的存在 神经网络的输出值在0.0~1.0之间 为了正确的分配预测标签 将十个数字标签分别分配给10个输出节点）\n",
    "        targets = np.zeros(10) + 0.01  # 生成一个大小为10 的数组 所有的值均为 0.01\n",
    "        targets[int(all_values[0])] = 0.99 #将原始数据的第一个值all_values[0] 也就是数据标签 的目标值初始化为 0.99  这样整个目标值矩阵除了正确目标的目标值为 0.99 其余的均为0.01\n",
    "        n.train(inputs,targets)\n",
    "        pass\n",
    "    print(i/5*100,\"%\")\n",
    "    pass\n",
    "print(\"Training is finnished! Time:\",datetime.datetime.now())"
   ]
  },
  {
   "cell_type": "code",
   "execution_count": 17,
   "metadata": {},
   "outputs": [],
   "source": [
    "#加载测试数据\n",
    "test_data_file = open(\"mnist_dataset/mnist_test.csv\", 'r')\n",
    "test_data_list = test_data_file.readlines()\n",
    "test_data_file.close()"
   ]
  },
  {
   "cell_type": "code",
   "execution_count": 22,
   "metadata": {},
   "outputs": [
    {
     "name": "stdout",
     "output_type": "stream",
     "text": [
      "准确率为： 97.18 %\n"
     ]
    },
    {
     "data": {
      "text/plain": [
       "['H:/Jupyter Notebook/mnist_dataset/Model_weight/mnist_model_who.pkl']"
      ]
     },
     "execution_count": 22,
     "metadata": {},
     "output_type": "execute_result"
    }
   ],
   "source": [
    "#测试网络\n",
    "for record  in test_data_list:\n",
    "    #预处理测试数据\n",
    "    all_values = record.split(',')\n",
    "    #将正确值（标签）取出来\n",
    "    correct_label = int(all_values[0]) \n",
    "    \n",
    "    #查询神经网络\n",
    "    inputs = (np.asfarray(all_values[1:])/255.0 * 0.99) + 0.01#定义查询输入\n",
    "    outputs = n.query(inputs)\n",
    "    prodict_label = np.argmax(outputs)#将十个输出节点中 值最大的索引（索引刚好是对应的数字）\n",
    "    \n",
    "    if(prodict_label == correct_label):\n",
    "        scorecard.append(1)   #如果标签值和预测值一致 加一分\n",
    "    else:\n",
    "        scorecard.append(0)   #如果标签值和预测值一致 不计分\n",
    "        pass\n",
    "    pass\n",
    "#转化为准确比\n",
    "scorecard_array = np.asarray(scorecard)\n",
    "print(\"准确率为：\",scorecard_array.sum() / scorecard_array.size *100,\"%\")\n",
    "save_wih = n.getWih()\n",
    "save_who = n.getWho()\n",
    "joblib.dump(save_wih,\"H:/Jupyter Notebook/mnist_dataset/Model_weight/mnist_model_wih.pkl\")  #将模型训练好之后的参数保存到本地\n",
    "joblib.dump(save_who,\"H:/Jupyter Notebook/mnist_dataset/Model_weight/mnist_model_who.pkl\")  #将模型训练好之后的参数保存到本地"
   ]
  },
  {
   "cell_type": "raw",
   "metadata": {},
   "source": [
    "#手写数字识别\n",
    "img_array = scipy.misc.imread(\"test.png\",flatten = True)\n",
    "img_data = 255.0 - img_array.reshape(784)\n",
    "img_data = (img_data/255.0*0.99)+0.01"
   ]
  },
  {
   "cell_type": "raw",
   "metadata": {
    "scrolled": true
   },
   "source": [
    "print(o_np.argmax(n.query(img_data)))"
   ]
  },
  {
   "cell_type": "code",
   "execution_count": null,
   "metadata": {},
   "outputs": [],
   "source": []
  }
 ],
 "metadata": {
  "kernelspec": {
   "display_name": "Python 3",
   "language": "python",
   "name": "python3"
  },
  "language_info": {
   "codemirror_mode": {
    "name": "ipython",
    "version": 3
   },
   "file_extension": ".py",
   "mimetype": "text/x-python",
   "name": "python",
   "nbconvert_exporter": "python",
   "pygments_lexer": "ipython3",
   "version": "3.7.3"
  }
 },
 "nbformat": 4,
 "nbformat_minor": 2
}
